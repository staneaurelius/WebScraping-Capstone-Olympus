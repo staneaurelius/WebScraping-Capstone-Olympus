{
 "cells": [
  {
   "cell_type": "markdown",
   "metadata": {},
   "source": [
    "# Capstone Webscrapping using BeautifulSoup\n",
    "\n",
    "This notebook contains guidances & tasks on the data processing for the application"
   ]
  },
  {
   "cell_type": "markdown",
   "metadata": {},
   "source": [
    "## Background\n",
    "\n",
    "During the pandemic, people are struggling of thinking what to do to kill time and boredom. Of course, there are multiple ways of killing time, and one of the best way to do it is by watching movies. There is a little problem however, that people do not know what movies to watch. Thus, we would like to give an analysis on the most popular movies in 2021. This will give people an idea of what movie to watch in 2021.\n",
    "\n",
    "The data used to rank movie's popularity is retrieved from [imdb](https://www.imdb.com/search/title/?release_date=2021-01-01,2021-12-31) website using [BeautifulSoup](https://www.crummy.com/software/BeautifulSoup/bs4/doc/) library. For each movie, we will retrieve the `Title`, `IMDB Rating`, `Metascore`, and `Votes` to make a movie ranking list."
   ]
  },
  {
   "cell_type": "markdown",
   "metadata": {},
   "source": [
    "## Dependencies\n",
    "\n",
    "Some libraries that needs to be installed for this notebook:\n",
    "\n",
    "* BeautifulSoup\n",
    "* Requests\n",
    "* Pandas\n",
    "* Matplotlib\n",
    "\n",
    "The packages are already included in the `requirements.txt` file that is already provided."
   ]
  },
  {
   "cell_type": "markdown",
   "metadata": {},
   "source": [
    "## Requesting the Data and Creating a BeautifulSoup\n",
    "\n",
    "Let's begin with requesting the web from the site with `get` method."
   ]
  },
  {
   "cell_type": "code",
   "execution_count": 1,
   "metadata": {
    "ExecuteTime": {
     "end_time": "2020-01-13T05:12:23.275508Z",
     "start_time": "2020-01-13T05:12:20.009898Z"
    }
   },
   "outputs": [],
   "source": [
    "import requests\n",
    "\n",
    "url_get = requests.get('https://www.imdb.com/search/title/?release_date=2021-01-01,2021-12-31')"
   ]
  },
  {
   "cell_type": "markdown",
   "metadata": {},
   "source": [
    "To visualize what exactly you get from the `request.get`, we can use .content to see what we exactly get, in here I slice it so it won't make our screen full of the html we get from the page. You can delete the slicing if you want to see what we fully get."
   ]
  },
  {
   "cell_type": "code",
   "execution_count": 2,
   "metadata": {
    "ExecuteTime": {
     "end_time": "2020-01-13T05:12:23.290648Z",
     "start_time": "2020-01-13T05:12:23.277650Z"
    }
   },
   "outputs": [
    {
     "data": {
      "text/plain": [
       "b'\\n<!DOCTYPE html>\\n<html\\n    xmlns:og=\"http://ogp.me/ns#\"\\n    xmlns:fb=\"http://www.facebook.com/2008/fbml\">\\n    <head>\\n         \\n        <meta charset=\"utf-8\">\\n        <meta http-equiv=\"X-UA-Compatible\" content=\"IE=edge\">\\n\\n    <meta name=\"apple-itunes-app\" content=\"app-id=342792525, app-argument=imdb:///?src=mdot\">\\n\\n\\n\\n        <script type=\"text/javascript\">var IMDbTimer={starttime: new Date().getTime(),pt:\\'java\\'};</script>\\n\\n<script>\\n    if (typeof uet == \\'function\\') {\\n      uet(\"bb\", \"LoadTitle\",'"
      ]
     },
     "execution_count": 2,
     "metadata": {},
     "output_type": "execute_result"
    }
   ],
   "source": [
    "url_get.content[1:500]"
   ]
  },
  {
   "cell_type": "markdown",
   "metadata": {},
   "source": [
    "As we can see we get a very unstructured and complex html, which actually contains the codes needed to show the webpages on your web browser. But we as a human is still confused of what and where we can use that piece of code, so here is where we use the BeautifulSoup. Beautiful soup class will result in a a BeautifulSoup object. Beautiful Soup transforms a complex HTML document into a complex tree of Python objects. \n",
    "\n",
    "Let's make Beautiful soup object and feel free to explore the object here."
   ]
  },
  {
   "cell_type": "code",
   "execution_count": 3,
   "metadata": {
    "ExecuteTime": {
     "end_time": "2020-01-13T05:12:23.808122Z",
     "start_time": "2020-01-13T05:12:23.292610Z"
    }
   },
   "outputs": [],
   "source": [
    "from bs4 import BeautifulSoup \n",
    "\n",
    "soup = BeautifulSoup(url_get.content, \"html.parser\")"
   ]
  },
  {
   "cell_type": "code",
   "execution_count": 4,
   "metadata": {},
   "outputs": [
    {
     "name": "stdout",
     "output_type": "stream",
     "text": [
      "!DOCTYPE html>\n",
      "<html xmlns:fb=\"http://www.facebook.com/2008/fbml\" xmlns:og=\"http://ogp.me/ns#\">\n",
      " <head>\n",
      "  <meta charset=\"utf-8\"/>\n",
      "  <meta content=\"IE=edge\" http-equiv=\"X-UA-Compatible\"/>\n",
      "  <meta content=\"app-id=342792525, app-argument=imdb:///?src=mdot\" name=\"apple-itunes-app\"/>\n",
      "  <script type=\"text/javascript\">\n",
      "   var IMDbTimer={starttime: new Date().getTime(),pt:'java'};\n",
      "  </script>\n",
      "  <script>\n",
      "   if (typeof uet == 'function') {\n",
      "      uet(\"bb\", \"LoadTitle\", {wb: 1});\n",
      "    }\n",
      "  </script>\n",
      "  <scrip\n"
     ]
    }
   ],
   "source": [
    "print(soup.prettify()[1:500])"
   ]
  },
  {
   "cell_type": "markdown",
   "metadata": {},
   "source": [
    "## Finding the right key to scrap the data & Extracting the right information"
   ]
  },
  {
   "cell_type": "markdown",
   "metadata": {},
   "source": [
    "By inspecting the website, we know that the movie list is actually served within `<div class=\"lister-list\">` table."
   ]
  },
  {
   "cell_type": "code",
   "execution_count": 5,
   "metadata": {
    "ExecuteTime": {
     "end_time": "2020-01-13T05:12:23.878904Z",
     "start_time": "2020-01-13T05:12:23.854974Z"
    }
   },
   "outputs": [
    {
     "name": "stdout",
     "output_type": "stream",
     "text": [
      "div class=\"lister-list\">\n",
      " <div class=\"lister-item mode-advanced\">\n",
      "  <div class=\"lister-top-right\">\n",
      "   <div class=\"ribbonize\" data-caller=\"filmosearch\" data-tconst=\"tt9140554\">\n",
      "   </div>\n",
      "  </div>\n",
      "  <div class=\"lister-item-image float-left\">\n",
      "   <a href=\"/title/tt9140554/\">\n",
      "    <img alt=\"Loki\" class=\"loadlate\" data-tconst=\"tt9140554\" height=\"98\" loadlate=\"https://m.media-amazon.com/images/M/MV5BNTkwOTE1ZDYtODQ3Yy00YTYwLTg0YWQtYmVkNmFjNGZlYmRiXkEyXkFqcGdeQXVyNTc4MjczMTM@._V1_UX67_CR0,0,67,98_AL_.jp\n"
     ]
    }
   ],
   "source": [
    "table = soup.find('div', attrs = {'class':'lister-list'})\n",
    "print(table.prettify()[1:500])"
   ]
  },
  {
   "cell_type": "markdown",
   "metadata": {},
   "source": [
    "Inspecting the website even further, we know that every movie has their own container named `<div class =\"lister-item mode-advanced\">`. So we can say that every movie is an item (or a row) within the table. Originally, we want to access:\n",
    "\n",
    "* `Title`\n",
    "* `IMDB Rating`\n",
    "* `Metascore`\n",
    "* `Votes`\n",
    "\n",
    "From each movie. So first, we will find all the \"row\" (every movie) using BeautifulSoup, and then iterate over all of it while extracting the necessary elements."
   ]
  },
  {
   "cell_type": "code",
   "execution_count": 6,
   "metadata": {},
   "outputs": [],
   "source": [
    "row = table.find_all('div', attrs = {'class':'lister-item mode-advanced'})\n",
    "row_length = len(row)"
   ]
  },
  {
   "cell_type": "code",
   "execution_count": 7,
   "metadata": {},
   "outputs": [
    {
     "data": {
      "text/plain": [
       "50"
      ]
     },
     "execution_count": 7,
     "metadata": {},
     "output_type": "execute_result"
    }
   ],
   "source": [
    "row_length"
   ]
  },
  {
   "cell_type": "markdown",
   "metadata": {},
   "source": [
    "Note that each page only displays 50 movies, while there are 176.240 movies available in the site. I personally think that 50 data is too little, so I am going to extract 1.000 movies data from the site. By inspecting the site, we can know that the link to each page has a similar pattern, which is \n",
    "\n",
    "> `https://www.imdb.com/search/title/?release_date=2021-01-01,2021-12-31&start=<title_number>&ref_=adv_prv`\n",
    "\n",
    "with `<title_number>` being the first movie title number to be displayed in the page. I decided to extract 1.000 movies information because the page pattern only matches for the first 10.000 movies title, while the rest contains unique codes in the link. And for the time factor, extracting all 10.000 movies is just too slow, so I will extract only 1.000 movies.\n",
    "\n",
    "So first, I need a function to extract all 4 informations we want (title, ratings, etc) into a single list, given that we are already provided with a list of movies container. I will provide some explanations about some commands in the function."
   ]
  },
  {
   "cell_type": "markdown",
   "metadata": {},
   "source": [
    "### Creating Functions to Extract Information Given a List of Movies Container"
   ]
  },
  {
   "cell_type": "markdown",
   "metadata": {},
   "source": [
    "***Important Note:*** Some elements we want to extract are not provided by the website, there are a lot of movies which rating, metascore, and votes are not provided. So whenever we meet the case, we will replace it with 0"
   ]
  },
  {
   "cell_type": "code",
   "execution_count": 8,
   "metadata": {
    "ExecuteTime": {
     "end_time": "2020-01-13T05:12:24.008256Z",
     "start_time": "2020-01-13T05:12:23.980358Z"
    }
   },
   "outputs": [],
   "source": [
    "def extract_page (output_list, row):\n",
    "    \n",
    "    \"\"\"This function receives a list of movie containers and returns the Title, IMDB Rating,\n",
    "    Metascore, and Votes for each movie. By inspecting the IMDB website, we know that every\n",
    "    container always has the movie title, but not necessarily contains the Rating, Metascore,\n",
    "    nor Votes. So we have to check whether each container contains those 3 optional elements or not.\n",
    "    If the information is not provided, we will replace it with 0\"\"\"\n",
    "    \n",
    "    #Getting the number of movies from the lists\n",
    "    row_length = len(row)\n",
    "    \n",
    "    #iterating over all movies\n",
    "    for i in range(row_length):\n",
    "        title = row[i].find('h3').find('a').text   #Extract the title\n",
    "        rating_div = row[i].find('div', attrs = {'class':'ratings-bar'})   #Extract the rating container\n",
    "        \n",
    "        if rating_div == None:   #Checking if ratings are provided by the website\n",
    "            rating = 0\n",
    "            metascore = 0\n",
    "\n",
    "        else:\n",
    "            rating = rating_div.find('strong')   #Extract the rating\n",
    "            if rating == None:   #Some ratings are not provided\n",
    "                rating = 0\n",
    "            else:\n",
    "                rating = rating.text\n",
    "            \n",
    "            metascore = rating_div.find('span', attrs = {'class':'metascore'})   #Extract the metascore\n",
    "            if metascore == None:   #Some metascores are not provided\n",
    "                metascore = 0\n",
    "            else:\n",
    "                metascore = metascore.text.strip()   \n",
    "                #The metascores are returned in an untidy format (contains white spaces)\n",
    "\n",
    "        votes = row[i].find('span', attrs = {'name' : 'nv'})\n",
    "        \n",
    "        if votes == None:   #Some votes are not provided\n",
    "            votes = 0\n",
    "        else:\n",
    "            votes = votes.text\n",
    "\n",
    "        output_list.append((title, rating, metascore, votes))"
   ]
  },
  {
   "cell_type": "code",
   "execution_count": 9,
   "metadata": {},
   "outputs": [
    {
     "name": "stdout",
     "output_type": "stream",
     "text": [
      "[('Loki', '8.9', 0, '67,743'), ('The Tomorrow War', '6.7', '45', '66,401'), ('Sex/Life', '5.6', 0, '5,597'), ('F9', '5.5', '58', '27,090'), ('The Many Saints of Newark', 0, 0, 0)]\n",
      "\n",
      "Number of Movies Extracted: 50\n"
     ]
    }
   ],
   "source": [
    "# Checking whether the function is working as expected\n",
    "\n",
    "temp = []\n",
    "extract_page(temp, row)\n",
    "\n",
    "print(temp[:5])\n",
    "print('\\nNumber of Movies Extracted:', len(temp))"
   ]
  },
  {
   "cell_type": "markdown",
   "metadata": {},
   "source": [
    "We see that our function returns the list consisting 4 information about 50 movies. We can proceed to use it to extract 1.000 movies information from the website."
   ]
  },
  {
   "cell_type": "markdown",
   "metadata": {},
   "source": [
    "### Extracting 1,000 Movies Title From IMDB Website\n",
    "\n",
    "We want to extract movies data from multiple pages, so we will need to make multiple requests and iterate over them. Our workflow is:\n",
    "\n",
    "1. Make a request to the page\n",
    "2. Pass the content of the page to BeautifulSoup\n",
    "3. Find all movie containers in the page\n",
    "4. Extract the Title, Rating, Metascore, and Votes for each movie\n",
    "5. Save the extracted information into a list\n",
    "6. Make a request to another page and repeat step 2-5"
   ]
  },
  {
   "cell_type": "code",
   "execution_count": 10,
   "metadata": {},
   "outputs": [],
   "source": [
    "temp = []  #Create a list that will contain all informations\n",
    "\n",
    "for i in range(1, 1000, 50):   #Iterate over pages\n",
    "    url_get = requests.get('https://www.imdb.com/search/title/?release_date=2021-01-01,2021-12-31&start=' + \n",
    "                           str(i) + '&ref_=adv_prv')   #Make a request to each page\n",
    "    \n",
    "    soup = BeautifulSoup(url_get.content, \"html.parser\")\n",
    "    \n",
    "    row = soup.find_all('div', attrs = {'class':'lister-item mode-advanced'})   #Get each movie container\n",
    "    \n",
    "    extract_page (temp, row)   #Extract the information"
   ]
  },
  {
   "cell_type": "code",
   "execution_count": 11,
   "metadata": {
    "scrolled": true
   },
   "outputs": [
    {
     "name": "stdout",
     "output_type": "stream",
     "text": [
      "[('Loki', '8.9', 0, '67,743'), ('The Tomorrow War', '6.7', '45', '66,401'), ('Sex/Life', '5.6', 0, '5,597'), ('F9', '5.5', '58', '27,090'), ('The Many Saints of Newark', 0, 0, 0)]\n",
      "\n",
      "Number of Movies Extracted: 1000\n"
     ]
    }
   ],
   "source": [
    "print(temp[:5])\n",
    "print('\\nNumber of Movies Extracted:', len(temp))"
   ]
  },
  {
   "cell_type": "markdown",
   "metadata": {},
   "source": [
    "We have successfully extracted data from 1.000 movies. You may check the `temp` variable by removing the slicing."
   ]
  },
  {
   "cell_type": "markdown",
   "metadata": {},
   "source": [
    "## Creating data frame & Data wrangling"
   ]
  },
  {
   "cell_type": "markdown",
   "metadata": {},
   "source": [
    "Put the array into a dataframe"
   ]
  },
  {
   "cell_type": "code",
   "execution_count": 12,
   "metadata": {
    "ExecuteTime": {
     "end_time": "2020-01-13T05:12:41.517372Z",
     "start_time": "2020-01-13T05:12:29.130015Z"
    }
   },
   "outputs": [
    {
     "data": {
      "text/html": [
       "<div>\n",
       "<style scoped>\n",
       "    .dataframe tbody tr th:only-of-type {\n",
       "        vertical-align: middle;\n",
       "    }\n",
       "\n",
       "    .dataframe tbody tr th {\n",
       "        vertical-align: top;\n",
       "    }\n",
       "\n",
       "    .dataframe thead th {\n",
       "        text-align: right;\n",
       "    }\n",
       "</style>\n",
       "<table border=\"1\" class=\"dataframe\">\n",
       "  <thead>\n",
       "    <tr style=\"text-align: right;\">\n",
       "      <th></th>\n",
       "      <th>title</th>\n",
       "      <th>imdb_rating</th>\n",
       "      <th>metascore</th>\n",
       "      <th>votes</th>\n",
       "    </tr>\n",
       "  </thead>\n",
       "  <tbody>\n",
       "    <tr>\n",
       "      <th>0</th>\n",
       "      <td>Loki</td>\n",
       "      <td>8.9</td>\n",
       "      <td>0</td>\n",
       "      <td>67,743</td>\n",
       "    </tr>\n",
       "    <tr>\n",
       "      <th>1</th>\n",
       "      <td>The Tomorrow War</td>\n",
       "      <td>6.7</td>\n",
       "      <td>45</td>\n",
       "      <td>66,401</td>\n",
       "    </tr>\n",
       "    <tr>\n",
       "      <th>2</th>\n",
       "      <td>Sex/Life</td>\n",
       "      <td>5.6</td>\n",
       "      <td>0</td>\n",
       "      <td>5,597</td>\n",
       "    </tr>\n",
       "    <tr>\n",
       "      <th>3</th>\n",
       "      <td>F9</td>\n",
       "      <td>5.5</td>\n",
       "      <td>58</td>\n",
       "      <td>27,090</td>\n",
       "    </tr>\n",
       "    <tr>\n",
       "      <th>4</th>\n",
       "      <td>The Many Saints of Newark</td>\n",
       "      <td>0</td>\n",
       "      <td>0</td>\n",
       "      <td>0</td>\n",
       "    </tr>\n",
       "  </tbody>\n",
       "</table>\n",
       "</div>"
      ],
      "text/plain": [
       "                       title imdb_rating metascore   votes\n",
       "0                       Loki         8.9         0  67,743\n",
       "1           The Tomorrow War         6.7        45  66,401\n",
       "2                   Sex/Life         5.6         0   5,597\n",
       "3                         F9         5.5        58  27,090\n",
       "4  The Many Saints of Newark           0         0       0"
      ]
     },
     "execution_count": 12,
     "metadata": {},
     "output_type": "execute_result"
    }
   ],
   "source": [
    "import pandas as pd\n",
    "\n",
    "df = pd.DataFrame(temp, columns = ('title', 'imdb_rating', 'metascore', 'votes'))\n",
    "df.head()"
   ]
  },
  {
   "cell_type": "markdown",
   "metadata": {},
   "source": [
    "Some useful information about the variables:\n",
    "\n",
    "* `imdb_rating`: Aggregated and summarized IMDB registered user's rating.\n",
    "\n",
    "* `metascore`: Metascore is considered the rating of a film. Scores are assigned to movie's reviews of large group of the world's most respected critics, and weighted average are applied to summarize their opinions range. The higher the Metascore, the more positive reviews a movie has.\n",
    "\n",
    "* `votes`: Users' votes"
   ]
  },
  {
   "cell_type": "markdown",
   "metadata": {},
   "source": [
    "### Data Wrangling"
   ]
  },
  {
   "cell_type": "markdown",
   "metadata": {},
   "source": [
    "Before we analyze and visualize the data, we need to clean it. So, from the process of extracting the data, we already know that there is no missing value in the DataFrame, since we replace any unavailable information with 0. However, all information we have extracted is of `string` type. So, let's check the dtypes first."
   ]
  },
  {
   "cell_type": "code",
   "execution_count": 13,
   "metadata": {},
   "outputs": [
    {
     "data": {
      "text/plain": [
       "title          object\n",
       "imdb_rating    object\n",
       "metascore      object\n",
       "votes          object\n",
       "dtype: object"
      ]
     },
     "execution_count": 13,
     "metadata": {},
     "output_type": "execute_result"
    }
   ],
   "source": [
    "df.dtypes"
   ]
  },
  {
   "cell_type": "markdown",
   "metadata": {},
   "source": [
    "Let's clean the data in each columns and convert them\n",
    "\n",
    "* imdb_rating: float\n",
    "* metascore: int\n",
    "* votes: int\n",
    "\n",
    "`imdb_rating` and `metascore` can be converted directly. But note that all data in the `votes` column has `,`, so we need to remove it before converting to integer. We will use `.str.replace()` method to remove the `,` in the votes column."
   ]
  },
  {
   "cell_type": "code",
   "execution_count": 14,
   "metadata": {},
   "outputs": [],
   "source": [
    "df['imdb_rating'] = df['imdb_rating'].astype(float)\n",
    "df['metascore'] = df['metascore'].astype(int)\n",
    "df['votes'] = df['votes'].str.replace(',', '')"
   ]
  },
  {
   "cell_type": "code",
   "execution_count": 15,
   "metadata": {
    "scrolled": true
   },
   "outputs": [
    {
     "data": {
      "text/html": [
       "<div>\n",
       "<style scoped>\n",
       "    .dataframe tbody tr th:only-of-type {\n",
       "        vertical-align: middle;\n",
       "    }\n",
       "\n",
       "    .dataframe tbody tr th {\n",
       "        vertical-align: top;\n",
       "    }\n",
       "\n",
       "    .dataframe thead th {\n",
       "        text-align: right;\n",
       "    }\n",
       "</style>\n",
       "<table border=\"1\" class=\"dataframe\">\n",
       "  <thead>\n",
       "    <tr style=\"text-align: right;\">\n",
       "      <th></th>\n",
       "      <th>title</th>\n",
       "      <th>imdb_rating</th>\n",
       "      <th>metascore</th>\n",
       "      <th>votes</th>\n",
       "    </tr>\n",
       "  </thead>\n",
       "  <tbody>\n",
       "    <tr>\n",
       "      <th>0</th>\n",
       "      <td>Loki</td>\n",
       "      <td>8.9</td>\n",
       "      <td>0</td>\n",
       "      <td>67743</td>\n",
       "    </tr>\n",
       "    <tr>\n",
       "      <th>1</th>\n",
       "      <td>The Tomorrow War</td>\n",
       "      <td>6.7</td>\n",
       "      <td>45</td>\n",
       "      <td>66401</td>\n",
       "    </tr>\n",
       "    <tr>\n",
       "      <th>2</th>\n",
       "      <td>Sex/Life</td>\n",
       "      <td>5.6</td>\n",
       "      <td>0</td>\n",
       "      <td>5597</td>\n",
       "    </tr>\n",
       "    <tr>\n",
       "      <th>3</th>\n",
       "      <td>F9</td>\n",
       "      <td>5.5</td>\n",
       "      <td>58</td>\n",
       "      <td>27090</td>\n",
       "    </tr>\n",
       "    <tr>\n",
       "      <th>4</th>\n",
       "      <td>The Many Saints of Newark</td>\n",
       "      <td>0.0</td>\n",
       "      <td>0</td>\n",
       "      <td>NaN</td>\n",
       "    </tr>\n",
       "  </tbody>\n",
       "</table>\n",
       "</div>"
      ],
      "text/plain": [
       "                       title  imdb_rating  metascore  votes\n",
       "0                       Loki          8.9          0  67743\n",
       "1           The Tomorrow War          6.7         45  66401\n",
       "2                   Sex/Life          5.6          0   5597\n",
       "3                         F9          5.5         58  27090\n",
       "4  The Many Saints of Newark          0.0          0    NaN"
      ]
     },
     "execution_count": 15,
     "metadata": {},
     "output_type": "execute_result"
    }
   ],
   "source": [
    "df.head()"
   ]
  },
  {
   "cell_type": "markdown",
   "metadata": {},
   "source": [
    "Now our data has missing values. Let's replace them back with 0. Then we will be able to convert `votes` column into `integer` type and check whether each columns has the right data types."
   ]
  },
  {
   "cell_type": "code",
   "execution_count": 16,
   "metadata": {},
   "outputs": [],
   "source": [
    "df.fillna(0, inplace = True)\n",
    "df['votes'] = df['votes'].astype(int)"
   ]
  },
  {
   "cell_type": "code",
   "execution_count": 17,
   "metadata": {},
   "outputs": [
    {
     "data": {
      "text/plain": [
       "title           object\n",
       "imdb_rating    float64\n",
       "metascore        int32\n",
       "votes            int32\n",
       "dtype: object"
      ]
     },
     "execution_count": 17,
     "metadata": {},
     "output_type": "execute_result"
    }
   ],
   "source": [
    "df.dtypes"
   ]
  },
  {
   "cell_type": "markdown",
   "metadata": {},
   "source": [
    "Finally, setting the title as the index of each row."
   ]
  },
  {
   "cell_type": "code",
   "execution_count": 18,
   "metadata": {},
   "outputs": [],
   "source": [
    "df = df.set_index('title')"
   ]
  },
  {
   "cell_type": "markdown",
   "metadata": {},
   "source": [
    "### Exploring the Data\n",
    "\n",
    "So I want to explore some things from this data: \n",
    "\n",
    "* Which columns should I use to determine which is the most popular Movie?\n",
    "\n",
    "* Are there any relations between imdb_rating & votes?\n",
    "\n",
    "* What are the 7 most popular movie in 2021?\n",
    "\n",
    "First, let's try to see whether there is a relation between imdb_rating and votes by using scatter plot. Since there are many movies with 0 rating and votes, we will exclude that first. Then we will normalize the rating and votes before plotting because of the difference between their ranges.\n",
    "\n",
    "$$ Normalization formula: \\frac{x - min}{max - min} $$"
   ]
  },
  {
   "cell_type": "code",
   "execution_count": 19,
   "metadata": {},
   "outputs": [],
   "source": [
    "df_norm = df[(df['imdb_rating'] != 0) & (df['votes'] != 0)].copy()"
   ]
  },
  {
   "cell_type": "code",
   "execution_count": 20,
   "metadata": {},
   "outputs": [],
   "source": [
    "imdb_min = df_norm['imdb_rating'].min()\n",
    "imdb_range = df_norm['imdb_rating'].max() - imdb_min\n",
    "\n",
    "df_norm['imdb_rating'] = (df_norm['imdb_rating'] - imdb_min) / imdb_range"
   ]
  },
  {
   "cell_type": "code",
   "execution_count": 21,
   "metadata": {},
   "outputs": [],
   "source": [
    "vote_min = df_norm['votes'].min()\n",
    "vote_range = df_norm['votes'].max() - vote_min\n",
    "\n",
    "df_norm['votes'] = (df_norm['votes'] - vote_min) / vote_range"
   ]
  },
  {
   "cell_type": "code",
   "execution_count": 22,
   "metadata": {},
   "outputs": [
    {
     "data": {
      "text/plain": [
       "<AxesSubplot:xlabel='imdb_rating', ylabel='votes'>"
      ]
     },
     "execution_count": 22,
     "metadata": {},
     "output_type": "execute_result"
    },
    {
     "data": {
      "image/png": "[encoded data removed]",
      "text/plain": [
       "<Figure size 432x288 with 1 Axes>"
      ]
     },
     "metadata": {
      "needs_background": "light"
     },
     "output_type": "display_data"
    }
   ],
   "source": [
    "df_norm.plot.scatter(x = 'imdb_rating', y = 'votes')"
   ]
  },
  {
   "cell_type": "markdown",
   "metadata": {},
   "source": [
    "It seems that the imdb_rating and votes are not correlated. Metascore is said to be the score given by world's most respected critics. So I think that might be a good metric in determining the movie rank. Let's check how many data are there without metascore."
   ]
  },
  {
   "cell_type": "code",
   "execution_count": 23,
   "metadata": {},
   "outputs": [
    {
     "name": "stdout",
     "output_type": "stream",
     "text": [
      "Number of movies with no metascore: 847\n"
     ]
    }
   ],
   "source": [
    "print('Number of movies with no metascore:', df[df['metascore'] == 0].shape[0])"
   ]
  },
  {
   "cell_type": "markdown",
   "metadata": {},
   "source": [
    "Out of 1000 movies, there are actually 848 movies without metascore. So, I will not use it as a metric to rank the movies. imdb_rating might be a good alternative metric, but I do not know exactly how they calculate it. The website says that it is a weighted average, but if that is the case, then we will never know how many people in total have watched and rated it. So, I personally think votes is the best metric to use."
   ]
  },
  {
   "cell_type": "code",
   "execution_count": 24,
   "metadata": {},
   "outputs": [
    {
     "data": {
      "text/html": [
       "<div>\n",
       "<style scoped>\n",
       "    .dataframe tbody tr th:only-of-type {\n",
       "        vertical-align: middle;\n",
       "    }\n",
       "\n",
       "    .dataframe tbody tr th {\n",
       "        vertical-align: top;\n",
       "    }\n",
       "\n",
       "    .dataframe thead th {\n",
       "        text-align: right;\n",
       "    }\n",
       "</style>\n",
       "<table border=\"1\" class=\"dataframe\">\n",
       "  <thead>\n",
       "    <tr style=\"text-align: right;\">\n",
       "      <th></th>\n",
       "      <th>votes</th>\n",
       "    </tr>\n",
       "    <tr>\n",
       "      <th>title</th>\n",
       "      <th></th>\n",
       "    </tr>\n",
       "  </thead>\n",
       "  <tbody>\n",
       "    <tr>\n",
       "      <th>Zack Snyder's Justice League</th>\n",
       "      <td>309982</td>\n",
       "    </tr>\n",
       "    <tr>\n",
       "      <th>Aspirants</th>\n",
       "      <td>273009</td>\n",
       "    </tr>\n",
       "    <tr>\n",
       "      <th>WandaVision</th>\n",
       "      <td>190842</td>\n",
       "    </tr>\n",
       "    <tr>\n",
       "      <th>Radhe</th>\n",
       "      <td>163997</td>\n",
       "    </tr>\n",
       "    <tr>\n",
       "      <th>Godzilla vs. Kong</th>\n",
       "      <td>150158</td>\n",
       "    </tr>\n",
       "    <tr>\n",
       "      <th>Army of the Dead</th>\n",
       "      <td>125171</td>\n",
       "    </tr>\n",
       "    <tr>\n",
       "      <th>The Falcon and the Winter Soldier</th>\n",
       "      <td>123181</td>\n",
       "    </tr>\n",
       "  </tbody>\n",
       "</table>\n",
       "</div>"
      ],
      "text/plain": [
       "                                    votes\n",
       "title                                    \n",
       "Zack Snyder's Justice League       309982\n",
       "Aspirants                          273009\n",
       "WandaVision                        190842\n",
       "Radhe                              163997\n",
       "Godzilla vs. Kong                  150158\n",
       "Army of the Dead                   125171\n",
       "The Falcon and the Winter Soldier  123181"
      ]
     },
     "execution_count": 24,
     "metadata": {},
     "output_type": "execute_result"
    }
   ],
   "source": [
    "# Set dataframe to the required format for plotting\n",
    "\n",
    "df_top = df[['votes']].sort_values(by = 'votes', ascending = False)\n",
    "df_top.head(7)"
   ]
  },
  {
   "cell_type": "code",
   "execution_count": 25,
   "metadata": {},
   "outputs": [
    {
     "data": {
      "text/plain": [
       "Text(0.5, 0, 'Votes')"
      ]
     },
     "execution_count": 25,
     "metadata": {},
     "output_type": "execute_result"
    },
    {
     "data": {
      "image/png": "[encoded data removed]",
      "text/plain": [
       "<Figure size 432x288 with 1 Axes>"
      ]
     },
     "metadata": {
      "needs_background": "light"
     },
     "output_type": "display_data"
    }
   ],
   "source": [
    "ax = df_top.head(7).plot(kind = 'barh')\n",
    "ax.invert_yaxis()   #We want to see the most popular title on top\n",
    "ax.set_title('7 Most Popular Movie in 2021 by Votes')\n",
    "ax.set_ylabel('Title')\n",
    "ax.set_xlabel('Votes')"
   ]
  },
  {
   "cell_type": "markdown",
   "metadata": {},
   "source": [
    "### Implementing your webscrapping to the flask dashboard\n",
    "\n",
    "- Copy paste all of your web scrapping process to the desired position on the `app.py`\n",
    "- Changing the title of the dasboard at `index.html`"
   ]
  },
  {
   "cell_type": "markdown",
   "metadata": {},
   "source": [
    "## Analysis and Conclusion"
   ]
  },
  {
   "cell_type": "markdown",
   "metadata": {},
   "source": [
    "1. The most popular movie in 2021, ranked by votes is Zack Snyder's Justice League with over **309k votes**. The $2^{nd}$ to $7^{th}$ most popular movies are:\n",
    "\n",
    "  * Aspirants (272k votes)\n",
    "  * WandaVision (190k votes)\n",
    "  * Radhe (163k votes)\n",
    "  * Godzilla vs. Kong (149k votes)\n",
    "  * Army of the Dead (124k votes)\n",
    "  * The Falcon and the Winter Soldier (122k votes)\n",
    "  \n",
    "2. Even though IMDB Rating is said to be an aggregated and summarized IMDB registered user's rating, it is not strongly correlated to the number of user votes\n",
    "\n",
    "3. IMDB Rating might not be a good metric for ranking the movies because there might be a case where only a few people watched it so the movie gets a high rating (not popular)."
   ]
  },
  {
   "cell_type": "markdown",
   "metadata": {},
   "source": [
    "### Extra Challenge\n",
    "\n",
    "We know that based on the number of users' votes, Zack Snyders' Justice League is the most popular movie in 2021. But considering that metascore is the best metric for ranking movies, I would like to know what is the best movie in 2021 according to the large group of world's most respected critics. Furthermore, I would also like to compare the rating and metascore of the top 7 movies ranked by this way."
   ]
  },
  {
   "cell_type": "code",
   "execution_count": 26,
   "metadata": {},
   "outputs": [
    {
     "data": {
      "text/html": [
       "<div>\n",
       "<style scoped>\n",
       "    .dataframe tbody tr th:only-of-type {\n",
       "        vertical-align: middle;\n",
       "    }\n",
       "\n",
       "    .dataframe tbody tr th {\n",
       "        vertical-align: top;\n",
       "    }\n",
       "\n",
       "    .dataframe thead th {\n",
       "        text-align: right;\n",
       "    }\n",
       "</style>\n",
       "<table border=\"1\" class=\"dataframe\">\n",
       "  <thead>\n",
       "    <tr style=\"text-align: right;\">\n",
       "      <th></th>\n",
       "      <th>metascore</th>\n",
       "      <th>imdb_rating</th>\n",
       "    </tr>\n",
       "    <tr>\n",
       "      <th>title</th>\n",
       "      <th></th>\n",
       "      <th></th>\n",
       "    </tr>\n",
       "  </thead>\n",
       "  <tbody>\n",
       "    <tr>\n",
       "      <th>Summer of Soul (...Or, When the Revolution Could Not Be Televised)</th>\n",
       "      <td>96</td>\n",
       "      <td>8.3</td>\n",
       "    </tr>\n",
       "    <tr>\n",
       "      <th>The Fallout</th>\n",
       "      <td>86</td>\n",
       "      <td>7.9</td>\n",
       "    </tr>\n",
       "    <tr>\n",
       "      <th>Judas and the Black Messiah</th>\n",
       "      <td>85</td>\n",
       "      <td>7.5</td>\n",
       "    </tr>\n",
       "    <tr>\n",
       "      <th>In the Heights</th>\n",
       "      <td>84</td>\n",
       "      <td>7.5</td>\n",
       "    </tr>\n",
       "    <tr>\n",
       "      <th>Passing</th>\n",
       "      <td>84</td>\n",
       "      <td>7.1</td>\n",
       "    </tr>\n",
       "    <tr>\n",
       "      <th>The Sparks Brothers</th>\n",
       "      <td>81</td>\n",
       "      <td>8.1</td>\n",
       "    </tr>\n",
       "    <tr>\n",
       "      <th>Tina</th>\n",
       "      <td>81</td>\n",
       "      <td>8.0</td>\n",
       "    </tr>\n",
       "  </tbody>\n",
       "</table>\n",
       "</div>"
      ],
      "text/plain": [
       "                                                    metascore  imdb_rating\n",
       "title                                                                     \n",
       "Summer of Soul (...Or, When the Revolution Coul...         96          8.3\n",
       "The Fallout                                                86          7.9\n",
       "Judas and the Black Messiah                                85          7.5\n",
       "In the Heights                                             84          7.5\n",
       "Passing                                                    84          7.1\n",
       "The Sparks Brothers                                        81          8.1\n",
       "Tina                                                       81          8.0"
      ]
     },
     "execution_count": 26,
     "metadata": {},
     "output_type": "execute_result"
    }
   ],
   "source": [
    "df_meta = df[['metascore', 'imdb_rating']].sort_values(by = 'metascore', ascending = False).copy()\n",
    "df_meta.head(7)"
   ]
  },
  {
   "cell_type": "markdown",
   "metadata": {},
   "source": [
    "I want to use bar plot, but then the difference of `imdb_rating`'s range and `metascore`'s range will make the plot messy. We know that the score that could be achieved by metascore is 0-100. To make it the same range as imdb_rating's (0-10) I will just divide the value by 10. And the top movie's title is too long, I'm going to cut it so the plot does not look messy."
   ]
  },
  {
   "cell_type": "code",
   "execution_count": 27,
   "metadata": {},
   "outputs": [
    {
     "data": {
      "text/html": [
       "<div>\n",
       "<style scoped>\n",
       "    .dataframe tbody tr th:only-of-type {\n",
       "        vertical-align: middle;\n",
       "    }\n",
       "\n",
       "    .dataframe tbody tr th {\n",
       "        vertical-align: top;\n",
       "    }\n",
       "\n",
       "    .dataframe thead th {\n",
       "        text-align: right;\n",
       "    }\n",
       "</style>\n",
       "<table border=\"1\" class=\"dataframe\">\n",
       "  <thead>\n",
       "    <tr style=\"text-align: right;\">\n",
       "      <th></th>\n",
       "      <th>metascore</th>\n",
       "      <th>imdb_rating</th>\n",
       "    </tr>\n",
       "    <tr>\n",
       "      <th>title</th>\n",
       "      <th></th>\n",
       "      <th></th>\n",
       "    </tr>\n",
       "  </thead>\n",
       "  <tbody>\n",
       "    <tr>\n",
       "      <th>Summer of Soul</th>\n",
       "      <td>9.6</td>\n",
       "      <td>8.3</td>\n",
       "    </tr>\n",
       "    <tr>\n",
       "      <th>The Fallout</th>\n",
       "      <td>8.6</td>\n",
       "      <td>7.9</td>\n",
       "    </tr>\n",
       "    <tr>\n",
       "      <th>Judas and the Black Messiah</th>\n",
       "      <td>8.5</td>\n",
       "      <td>7.5</td>\n",
       "    </tr>\n",
       "    <tr>\n",
       "      <th>In the Heights</th>\n",
       "      <td>8.4</td>\n",
       "      <td>7.5</td>\n",
       "    </tr>\n",
       "    <tr>\n",
       "      <th>Passing</th>\n",
       "      <td>8.4</td>\n",
       "      <td>7.1</td>\n",
       "    </tr>\n",
       "  </tbody>\n",
       "</table>\n",
       "</div>"
      ],
      "text/plain": [
       "                             metascore  imdb_rating\n",
       "title                                              \n",
       "Summer of Soul                     9.6          8.3\n",
       "The Fallout                        8.6          7.9\n",
       "Judas and the Black Messiah        8.5          7.5\n",
       "In the Heights                     8.4          7.5\n",
       "Passing                            8.4          7.1"
      ]
     },
     "execution_count": 27,
     "metadata": {},
     "output_type": "execute_result"
    }
   ],
   "source": [
    "df_meta['metascore'] = df_meta['metascore'] / 10\n",
    "df_meta.rename(index = {'Summer of Soul (...Or, When the Revolution Could Not Be Televised)' : \n",
    "                        'Summer of Soul'}, inplace = True)\n",
    "\n",
    "df_meta.head()"
   ]
  },
  {
   "cell_type": "markdown",
   "metadata": {},
   "source": [
    "Plotting the data above"
   ]
  },
  {
   "cell_type": "code",
   "execution_count": 28,
   "metadata": {},
   "outputs": [
    {
     "data": {
      "text/plain": [
       "Text(0, 0.5, 'Movie Title')"
      ]
     },
     "execution_count": 28,
     "metadata": {},
     "output_type": "execute_result"
    },
    {
     "data": {
      "image/png": "[encoded data removed]",
      "text/plain": [
       "<Figure size 432x288 with 1 Axes>"
      ]
     },
     "metadata": {
      "needs_background": "light"
     },
     "output_type": "display_data"
    }
   ],
   "source": [
    "ax = df_meta.head(7).plot(kind = 'barh', legend = True)\n",
    "ax.set_xticks(range(0, 14, 2), minor=False)\n",
    "ax.legend(loc = 'lower right')\n",
    "ax.invert_yaxis()\n",
    "\n",
    "ax.set_title('Top 7 Movies Ranked by Metascore')\n",
    "ax.set_ylabel('Movie Title')"
   ]
  },
  {
   "cell_type": "markdown",
   "metadata": {},
   "source": [
    "**Notes**: we set_xticks to give some spaces for the legend. Originally, it would be over the bar."
   ]
  },
  {
   "cell_type": "markdown",
   "metadata": {},
   "source": [
    "#### Analisis and Conclusion"
   ]
  },
  {
   "cell_type": "markdown",
   "metadata": {},
   "source": [
    "1. The most popular movie ranked by its metascore is Summer of Soul(...Or, When the Revolution Could Not Be Televised) with a metascore of 96. The  2𝑛𝑑  to  7𝑡ℎ  most popular movies ranked by their metascore are:\n",
    "  * The Fallout\n",
    "  * Judas and The Black Messiah\n",
    "  * In the Heights\n",
    "  * Passing\n",
    "  * Tina\n",
    "  * The Sparks Brothers\n",
    "  \n",
    "2. A High metascore does not necessarily imply high IMDB rating."
   ]
  }
 ],
 "metadata": {
  "kernelspec": {
   "display_name": "web_scraping_capstone",
   "language": "python",
   "name": "web_scraping_capstone"
  },
  "language_info": {
   "codemirror_mode": {
    "name": "ipython",
    "version": 3
   },
   "file_extension": ".py",
   "mimetype": "text/x-python",
   "name": "python",
   "nbconvert_exporter": "python",
   "pygments_lexer": "ipython3",
   "version": "3.9.5"
  },
  "toc": {
   "base_numbering": 1,
   "nav_menu": {},
   "number_sections": false,
   "sideBar": true,
   "skip_h1_title": false,
   "title_cell": "Table of Contents",
   "title_sidebar": "Contents",
   "toc_cell": false,
   "toc_position": {},
   "toc_section_display": true,
   "toc_window_display": true
  }
 },
 "nbformat": 4,
 "nbformat_minor": 2
}
